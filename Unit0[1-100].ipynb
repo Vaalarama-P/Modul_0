{
 "cells": [
  {
   "cell_type": "code",
   "execution_count": 59,
   "metadata": {},
   "outputs": [],
   "source": [
    "import numpy as np\n",
    "\n",
    "def game_core_finish(number):\n",
    "#Число высчитывается посредством уполовинивания зоны вариантов в сторону уменьшения или увеличивания, \n",
    "#в зависмости от результата сравнения меньше-больше с загаданным числом. \n",
    "    count = 1\n",
    "    all_various = 100 #все доступные варианты = 100\n",
    "    predict = 50 #первый шаг сравнения и переменная, куда будет записываться прогнозируемый вариант\n",
    "    while number != predict:\n",
    "        count+=1\n",
    "        if number > predict: \n",
    "            predict_num = int(round((all_various - predict)/2)) #записсываем во временную переменную predict_num диапазон чисел, на который в дальнешем сузим зону предполагаемых вариантов \n",
    "            if predict_num == 0:\n",
    "                predict = predict + 1\n",
    "                break\n",
    "            all_various = predict #перписываем количество оставшихсся варианнтов\n",
    "            predict = predict + predict_num #сужаем зону вариантов на высчитаный ранее диапазон чисел predict_num\n",
    "        elif number < predict: \n",
    "            predict_num = int(round((all_various - predict)/2))\n",
    "            if predict_num == 0:\n",
    "                predict = predict - 1\n",
    "                break\n",
    "            all_various = predict\n",
    "            predict = predict - predict_num\n",
    "    return(count) # выход из цикла, если угадали"
   ]
  },
  {
   "cell_type": "code",
   "execution_count": 60,
   "metadata": {},
   "outputs": [],
   "source": [
    "def score_game(game_core):\n",
    "    '''Запускаем игру 1000 раз, чтобы узнать, как быстро игра угадывает число'''\n",
    "    count_ls = []\n",
    "    np.random.seed(1)  # фиксируем RANDOM SEED, чтобы ваш эксперимент был воспроизводим!\n",
    "    random_array = np.random.randint(1,101, size=(1000))\n",
    "    for number in random_array:\n",
    "        count_ls.append(game_core(number))\n",
    "    score = int(np.mean(count_ls))\n",
    "    print(f\"Ваш алгоритм угадывает число в среднем за {score} попыток\")\n",
    "    return(score)"
   ]
  },
  {
   "cell_type": "code",
   "execution_count": 61,
   "metadata": {},
   "outputs": [
    {
     "name": "stdout",
     "output_type": "stream",
     "text": [
      "Ваш алгоритм угадывает число в среднем за 7 попыток\n"
     ]
    },
    {
     "data": {
      "text/plain": [
       "7"
      ]
     },
     "execution_count": 61,
     "metadata": {},
     "output_type": "execute_result"
    }
   ],
   "source": [
    "score_game(game_core_finish)"
   ]
  }
 ],
 "metadata": {
  "kernelspec": {
   "display_name": "Python 3",
   "language": "python",
   "name": "python3"
  },
  "language_info": {
   "codemirror_mode": {
    "name": "ipython",
    "version": 3
   },
   "file_extension": ".py",
   "mimetype": "text/x-python",
   "name": "python",
   "nbconvert_exporter": "python",
   "pygments_lexer": "ipython3",
   "version": "3.7.6"
  }
 },
 "nbformat": 4,
 "nbformat_minor": 4
}
